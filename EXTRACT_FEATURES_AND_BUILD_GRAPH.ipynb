{
 "cells": [
  {
   "cell_type": "code",
   "execution_count": null,
   "metadata": {
    "collapsed": true,
    "deletable": true,
    "editable": true
   },
   "outputs": [],
   "source": [
    "#get superpixels features and build adjacency graph\n",
    "\n",
    "import numpy as np\n",
    "import queue\n",
    "from skimage import color\n",
    "from skimage import io"
   ]
  },
  {
   "cell_type": "code",
   "execution_count": null,
   "metadata": {
    "collapsed": true,
    "deletable": true,
    "editable": true
   },
   "outputs": [],
   "source": [
    "PICS_FEATURES_NUM = 10\n",
    "LABEL_NUM = 6\n",
    "SEGM_NUM_LIST = [30000]\n",
    "GTS_IND_LIST  = [1,3,5,7,11,13,15,17,21,23,26,28,30,32,34,37] \n",
    "TEST_IND_LIST = [1,7,15]\n",
    "TRAIN_IND_LIST = [i for i in GTS_IND_LIST if not i in TEST_IND_LIST]\n",
    "\n",
    "MAIN_PATH = \"/Users/ekaterina/Documents/Semantic Segmentation/ISPRS_semantic_labeling_Vaihingen\"\n",
    "TOP_FORMAT = \"/top/top_mosaic_09cm_area{}.tif\"\n",
    "SLIC_RES_FORMAT = \"/Output/SLIC/{}_area_{}_segm.txt\"\n",
    "GTS_FORMAT = \"/gts_for_participants/top_mosaic_09cm_area{}.tif\"\n",
    "NDSM_FORMAT = \"/ndsm/ndsm_09cm_matching_area{}.bmp\"\n",
    "\n",
    "FEATURES_FORMAT = \"/Output/FEATURES/{}_area_{}_segm.txt\"\n",
    "LABELS_FORMAT = \"/Output/LABELS/{}_area_{}_segm.txt\"\n",
    "ADJ_GRAPH_FORMAT = \"/Output/ADJ_GRAPHS/{}_area_{}_segm.txt\"\n",
    "\n",
    "\n",
    "SEGM_MAX_NUM = 30000\n",
    "\n",
    "categories = np.zeros((6, 3), dtype = 'uint8')\n",
    "categories[0]  = [255, 255, 255]\n",
    "categories[1]  = [0, 0, 255]\n",
    "categories[2]  = [0, 255, 255]\n",
    "categories[3]  = [0, 255, 0]\n",
    "categories[4]  = [255, 255, 0]\n",
    "categories[5]  = [255, 0, 0]"
   ]
  },
  {
   "cell_type": "code",
   "execution_count": null,
   "metadata": {
    "collapsed": true,
    "deletable": true,
    "editable": true
   },
   "outputs": [],
   "source": [
    "def show_pic(pic):\n",
    "    io.imshow(pic)\n",
    "    io.show()"
   ]
  },
  {
   "cell_type": "code",
   "execution_count": null,
   "metadata": {
    "collapsed": true,
    "deletable": true,
    "editable": true
   },
   "outputs": [],
   "source": [
    "def combine_features(source1, source2, source3, source4):\n",
    "    data = np.zeros((source1.shape[0],source1.shape[1], 10), dtype = 'float64')\n",
    "    data[:,:,0:3] = source1[:,:,:]\n",
    "    data[:,:,3:6] = source2[:,:,:]\n",
    "    data[:,:,6:9] = source3[:,:,:]\n",
    "    data[:,:,9] = source4[:,:]\n",
    "    return data"
   ]
  },
  {
   "cell_type": "code",
   "execution_count": null,
   "metadata": {
    "collapsed": true,
    "deletable": true,
    "editable": true
   },
   "outputs": [],
   "source": [
    "def get_gts(num):\n",
    "    label_path = MAIN_PATH + GTS_FORMAT. format(num)\n",
    "    res = io.imread(label_path)\n",
    "    return res"
   ]
  },
  {
   "cell_type": "code",
   "execution_count": null,
   "metadata": {
    "collapsed": true,
    "deletable": true,
    "editable": true
   },
   "outputs": [],
   "source": [
    "def get_top(num):\n",
    "    top_path = MAIN_PATH + TOP_FORMAT. format(num)\n",
    "    top = io.imread(top_path)\n",
    "    return top"
   ]
  },
  {
   "cell_type": "code",
   "execution_count": null,
   "metadata": {
    "collapsed": true,
    "deletable": true,
    "editable": true
   },
   "outputs": [],
   "source": [
    "def get_ndsm(num):\n",
    "    dsm_path = MAIN_PATH + NDSM_FORMAT. format(num)\n",
    "    res = io.imread(dsm_path)\n",
    "    return res"
   ]
  },
  {
   "cell_type": "code",
   "execution_count": null,
   "metadata": {
    "collapsed": true,
    "deletable": true,
    "editable": true
   },
   "outputs": [],
   "source": [
    "def get_slic_res(num, seg_num):\n",
    "    res_path = MAIN_PATH + SLIC_RES_FORMAT.format(num, seg_num)\n",
    "    res = np.loadtxt(res_path, dtype = \"int\")\n",
    "    return res"
   ]
  },
  {
   "cell_type": "code",
   "execution_count": null,
   "metadata": {
    "collapsed": true,
    "deletable": true,
    "editable": true
   },
   "outputs": [],
   "source": [
    "def get_hsv(image):\n",
    "    return color.rgb2hsv(image)\n",
    "\n",
    "def get_lab(image):\n",
    "    return  color.rgb2lab(image)"
   ]
  },
  {
   "cell_type": "code",
   "execution_count": null,
   "metadata": {
    "collapsed": true,
    "deletable": true,
    "editable": true
   },
   "outputs": [],
   "source": [
    "def convert_color_to_labels(color_map):\n",
    "    label_map = np.zeros((color_map.shape[0],color_map.shape[1]), dtype = 'uint8')\n",
    "    for i in range(color_map.shape[0]):\n",
    "        for j in range (color_map.shape[1]):\n",
    "            pics = color_map[i][j][:]\n",
    "            for k in range(6):\n",
    "                if np.array_equal(pics, categories[k, :]):\n",
    "                    label_map[i][j] = k\n",
    "                    break\n",
    "    return label_map"
   ]
  },
  {
   "cell_type": "code",
   "execution_count": null,
   "metadata": {
    "collapsed": false,
    "deletable": true,
    "editable": true
   },
   "outputs": [],
   "source": [
    "def bfs():\n",
    "    global raw_features\n",
    "    while not bfs_queue.empty():\n",
    "        x,y = bfs_queue.get()\n",
    "        raw_features = np.concatenate((raw_features, [img_data[x][y]]))\n",
    "        label_array[labels_map[x][y]] +=1\n",
    "        if (x>0 and visited[x-1][y]): \n",
    "            if (segm_res[x-1][y] == segm_res[x][y]):\n",
    "                visited[x-1][y] = 0\n",
    "                bfs_queue.put((x-1,y))\n",
    "            else:\n",
    "                adj_graph[segm_res[x-1][y],segm_res[x][y]] = 1\n",
    "        if (y>0 and visited[x][y-1]):\n",
    "            if (segm_res[x][y-1] == segm_res[x][y]):\n",
    "                visited[x][y-1] = 0\n",
    "                bfs_queue.put((x,y-1)) \n",
    "            else:\n",
    "                adj_graph[segm_res[x][y-1],segm_res[x][y]] = 1\n",
    "        if ((x!= (segm_res.shape[0] - 1)) and visited[x+1][y]):\n",
    "            if (segm_res[x+1][y] == segm_res[x][y]):\n",
    "                visited[x+1][y] = 0\n",
    "                bfs_queue.put((x+1,y)) \n",
    "            else:\n",
    "                adj_graph[segm_res[x+1][y],segm_res[x][y]] = 1\n",
    "        if ((y!= (segm_res.shape[1] - 1)) and visited[x][y+1]):\n",
    "            if (segm_res[x][y+1] == segm_res[x][y]):\n",
    "                visited[x][y+1] = 0\n",
    "                bfs_queue.put((x,y+1))\n",
    "            else:\n",
    "                adj_graph[segm_res[x][y+1],segm_res[x][y]] = 1\n",
    "    return 0"
   ]
  },
  {
   "cell_type": "code",
   "execution_count": null,
   "metadata": {
    "collapsed": false,
    "deletable": true,
    "editable": true
   },
   "outputs": [],
   "source": [
    "for ind in GTS_IND_LIST:\n",
    "    print(ind)\n",
    "    \n",
    "    ndsm = get_ndsm(ind)\n",
    "    rgb = get_top(ind)\n",
    "    hsv = get_hsv(rgb)\n",
    "    lab = get_lab(rgb)\n",
    "    img_data = combine_features(rgb,hsv,lab,ndsm)\n",
    "    \n",
    "    segm_res = get_slic_res(ind, SEGM_MAX_NUM)\n",
    "    segm_num = np.amax(segm_res) + 1\n",
    "    \n",
    "    adj_graph = np.zeros((segm_num, segm_num), dtype = 'uint8')\n",
    "    \n",
    "    labels_map = convert_color_to_labels(get_gts(ind))\n",
    "    segments_labels = np.zeros((segm_num), dtype = 'uint8')\n",
    "    \n",
    "    visited = np.ones(rgb.shape[:2])\n",
    "    \n",
    "    segments_features = np.zeros((segm_num, PICS_FEATURES_NUM*2), dtype = 'float64') \n",
    "    \n",
    "    while len(np.nonzero(visited)[0]) > 0:\n",
    "        start = np.nonzero(visited)\n",
    "        label_array = np.zeros((LABEL_NUM), dtype = 'uint32') \n",
    "        raw_features = np.zeros((0, PICS_FEATURES_NUM), dtype = 'float64') \n",
    "        \n",
    "        bfs_queue = queue.Queue()\n",
    "        bfs_queue.put((start[0][0], start[1][0]))\n",
    "        bfs()\n",
    "        segments_labels[segm_res[start[0][0], start[1][0]]] = np.argmax(label_array)\n",
    "            \n",
    "        for i in range(10):  \n",
    "            segments_features[segm_res[start[0][0], start[1][0]],i] = np.mean(raw_features[:,i])\n",
    "            \n",
    "        for i in range(10, 20):   \n",
    "            raw_features[:,i-10] = (raw_features[:,i-10] - segments_features[segm_res[start[0][0], start[1][0]],i-10])**2\n",
    "            segments_features[segm_res[start[0][0], start[1][0]],i] = np.mean(raw_features[:,i-10])\n",
    "            \n",
    "    adj_graph = adj_graph + np.transpose(adj_graph)\n",
    "    np.clip(adj_graph, 0, 1)\n",
    "\n",
    "    np.savetxt(MAIN_PATH + FEATURES_FORMAT.format(ind,SEGM_MAX_NUM), segments_features)\n",
    "    np.savetxt(MAIN_PATH + LABELS_FORMAT.format(ind,SEGM_MAX_NUM), segments_labels, fmt='%d')\n",
    "    np.savetxt(MAIN_PATH + ADJ_GRAPH_FORMAT.format(ind,SEGM_MAX_NUM), adj_graph, fmt='%d')"
   ]
  },
  {
   "cell_type": "code",
   "execution_count": null,
   "metadata": {
    "collapsed": true,
    "deletable": true,
    "editable": true
   },
   "outputs": [],
   "source": []
  }
 ],
 "metadata": {
  "kernelspec": {
   "display_name": "Python 3",
   "language": "python",
   "name": "python3"
  },
  "language_info": {
   "codemirror_mode": {
    "name": "ipython",
    "version": 3
   },
   "file_extension": ".py",
   "mimetype": "text/x-python",
   "name": "python",
   "nbconvert_exporter": "python",
   "pygments_lexer": "ipython3",
   "version": "3.6.0"
  }
 },
 "nbformat": 4,
 "nbformat_minor": 2
}
