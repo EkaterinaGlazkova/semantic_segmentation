{
 "cells": [
  {
   "cell_type": "code",
   "execution_count": 1,
   "metadata": {
    "collapsed": true,
    "deletable": true,
    "editable": true
   },
   "outputs": [],
   "source": [
    "#counts accuracy loss after segmentation\n",
    "import numpy as np\n",
    "from skimage import io"
   ]
  },
  {
   "cell_type": "code",
   "execution_count": 2,
   "metadata": {
    "collapsed": true,
    "deletable": true,
    "editable": true
   },
   "outputs": [],
   "source": [
    "MAIN_PATH = \"/Users/ekaterina/Documents/Semantic Segmentation/ISPRS_semantic_labeling_Vaihingen\"\n",
    "GTS_FORMAT = \"/gts_for_participants/top_mosaic_09cm_area{}.tif\"\n",
    "SLIC_RES_FORMAT = \"/Output/SLIC/{}_area_{}_segm.txt\"\n",
    "TOP_FORMAT = \"/top/top_mosaic_09cm_area{}.tif\"\n",
    "\n",
    "RES_FILE = \"/Output/SLIC/acc_loss_res.txt\"\n",
    "\n",
    "RES_FORMAT = \"AREA_IND = {} SEGM_MAX_NUM = {} SEGM_REAL_NUM = {} IMG_SIZE = {} WRONG_LABELS = {} LOSS_PERCENTAGE = {}\\n\"\n",
    "\n",
    "LABEL_NUM = 6\n",
    "SEGM_NUM_LIST = [30000]\n",
    "ALL_IND_LIST = [1,2,3,4,5,6,7,8,10,11,12,13,14,15,16,17,20,21,22,23,24,26,27,28,29,30,31,32,33,34,35,37,38]\n",
    "GTS_IND_LIST = [1,3,5,7,11,13,15,17,21,23,26,28,30,32,34,37]\n",
    "\n",
    "categories = np.zeros((6, 3), dtype = 'uint8')\n",
    "categories[0]  = [255, 255, 255]\n",
    "categories[1]  = [0, 0, 255]\n",
    "categories[2]  = [0, 255, 255]\n",
    "categories[3]  = [0, 255, 0]\n",
    "categories[4]  = [255, 255, 0]\n",
    "categories[5]  = [255, 0, 0]"
   ]
  },
  {
   "cell_type": "code",
   "execution_count": 3,
   "metadata": {
    "collapsed": false,
    "deletable": true,
    "editable": true
   },
   "outputs": [],
   "source": [
    "#gets array with labels from gts\n",
    "def convert_color_to_labels(color_map):\n",
    "    label_map = np.zeros((color_map.shape[0],color_map.shape[1]), dtype = 'uint8')\n",
    "    for i in range(color_map.shape[0]):\n",
    "        for j in range (color_map.shape[1]):\n",
    "            pics = color_map[i][j][:]\n",
    "            for k in range(6):\n",
    "                if np.array_equal(pics, categories[k, :]):\n",
    "                    label_map[i][j] = k\n",
    "                    break\n",
    "    return label_map"
   ]
  },
  {
   "cell_type": "code",
   "execution_count": 4,
   "metadata": {
    "collapsed": true,
    "deletable": true,
    "editable": true
   },
   "outputs": [],
   "source": [
    "def get_gts(num):\n",
    "    label_path = MAIN_PATH + GTS_FORMAT. format(num)\n",
    "    res = io.imread(label_path)\n",
    "    return res"
   ]
  },
  {
   "cell_type": "code",
   "execution_count": 5,
   "metadata": {
    "collapsed": true
   },
   "outputs": [],
   "source": [
    "def get_slic_res(num, seg_num):\n",
    "    res_path = MAIN_PATH + SLIC_RES_FORMAT.format(num, seg_num)\n",
    "    res = np.loadtxt(res_path, dtype = \"int\")\n",
    "    return res"
   ]
  },
  {
   "cell_type": "code",
   "execution_count": 6,
   "metadata": {
    "collapsed": false,
    "deletable": true,
    "editable": true,
    "scrolled": true
   },
   "outputs": [],
   "source": [
    "#counts accuracy loss after segmentation\n",
    "def find_loss(ind, segm_num):\n",
    "    segm_res = get_slic_res(ind, segm_num)\n",
    "    img_size = segm_res.shape[0]*segm_res.shape[1]\n",
    "\n",
    "    real_segm_num = np.amax(segm_res) + 1\n",
    "    hystogram = np.zeros((real_segm_num, LABEL_NUM), dtype = 'uint64')\n",
    "\n",
    "    for i in range(segm_res.shape[0]):\n",
    "        for j in range(segm_res.shape[1]):\n",
    "            hystogram[segm_res[i][j]][ground_truth_labels[i][j]] += 1\n",
    "        \n",
    "    loss_res = 0\n",
    "    for i in range(real_segm_num):\n",
    "        loss_res += np.sum(hystogram[i]) - np.amax(hystogram[i])\n",
    "\n",
    "    res_file.write(RES_FORMAT.format(ind, segm_num, real_segm_num, img_size, loss_res, loss_res*100/ img_size))"
   ]
  },
  {
   "cell_type": "code",
   "execution_count": 7,
   "metadata": {
    "collapsed": false,
    "deletable": true,
    "editable": true
   },
   "outputs": [],
   "source": [
    "for ind in GTS_IND_LIST:\n",
    "    res_file = open(MAIN_PATH + RES_FILE, 'a')\n",
    "    ground_truth_labels = convert_color_to_labels(get_gts(ind))\n",
    "    for i in SEGM_NUM_LIST:\n",
    "        find_loss(ind, i)\n",
    "    res_file.close()"
   ]
  }
 ],
 "metadata": {
  "kernelspec": {
   "display_name": "Python 3",
   "language": "python",
   "name": "python3"
  },
  "language_info": {
   "codemirror_mode": {
    "name": "ipython",
    "version": 3
   },
   "file_extension": ".py",
   "mimetype": "text/x-python",
   "name": "python",
   "nbconvert_exporter": "python",
   "pygments_lexer": "ipython3",
   "version": "3.6.0"
  }
 },
 "nbformat": 4,
 "nbformat_minor": 2
}
