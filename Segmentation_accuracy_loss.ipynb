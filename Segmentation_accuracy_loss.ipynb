{
 "cells": [
  {
   "cell_type": "code",
   "execution_count": null,
   "metadata": {
    "collapsed": true
   },
   "outputs": [],
   "source": [
    "import numpy as np\n",
    "from skimage import io\n",
    "import matplotlib.pyplot as plt"
   ]
  },
  {
   "cell_type": "code",
   "execution_count": null,
   "metadata": {
    "collapsed": true
   },
   "outputs": [],
   "source": [
    "LABEL_NUM = 6\n",
    "#SEGM_NUM_LIST = [25000]\n",
    "SEGM_NUM_LIST = [50, 100, 150, 200, 250, 300, 350, 400, 450, 500, 550, 600, 650]\n",
    "IND_LIST = [3]\n",
    "MAIN_PATH = \"/Users/ekaterina/Documents/Semantic Segmentation/ISPRS_semantic_labeling_Vaihingen\"\n",
    "GROUND_TRUTH_NAME_PATTERN = \"/gts_for_participants/top_mosaic_09cm_area{}.tif\"\n",
    "SLIC_RESULT_PATTERN = \"/Output/SLIC/SLIC_{}_area_mask_{}_segments.png\""
   ]
  },
  {
   "cell_type": "code",
   "execution_count": null,
   "metadata": {
    "collapsed": true
   },
   "outputs": [],
   "source": [
    "def convert_color_to_labels(color_map):\n",
    "    categories = np.zeros((6, 3), dtype = 'uint8')\n",
    "    categories[0]  = [255, 255, 255]\n",
    "    categories[1]  = [0, 0, 255]\n",
    "    categories[2]  = [0, 255, 255]\n",
    "    categories[3]  = [0, 255, 0]\n",
    "    categories[4]  = [255, 255, 0]\n",
    "    categories[5]  = [255, 0, 0]\n",
    "\n",
    "    label_map = np.zeros((color_map.shape[0],color_map.shape[1]), dtype = 'uint8')\n",
    "    for i in range(color_map.shape[0]):\n",
    "        for j in range (color_map.shape[1]):\n",
    "            pics = color_map[i][j][:]\n",
    "            for k in range(6):\n",
    "                if (pics[0] == categories[k][0]) and (pics[1] == categories[k][1]) and (pics[2] == categories[k][2]):\n",
    "                    label_map[i][j] = k\n",
    "                    break\n",
    "    \n",
    "    return label_map"
   ]
  },
  {
   "cell_type": "code",
   "execution_count": null,
   "metadata": {
    "collapsed": true
   },
   "outputs": [],
   "source": [
    "def show_pic(pic):\n",
    "    plt.imshow(pic)\n",
    "    plt.show()"
   ]
  },
  {
   "cell_type": "code",
   "execution_count": null,
   "metadata": {
    "collapsed": true
   },
   "outputs": [],
   "source": [
    "def get_label_pic(num):\n",
    "    label_path = MAIN_PATH + \"/gts_for_participants/top_mosaic_09cm_area{}.tif\". format(num)\n",
    "    res = io.imread(label_path)\n",
    "    return res"
   ]
  },
  {
   "cell_type": "code",
   "execution_count": null,
   "metadata": {
    "collapsed": false,
    "scrolled": true
   },
   "outputs": [],
   "source": [
    "def find_loss(ind, segm_num):\n",
    "    segm_res = io.imread(MAIN_PATH + SLIC_RESULT_PATTERN.format(ind, segm_num))\n",
    "    pics_num = segm_res.shape[0]*segm_res.shape[1]\n",
    "\n",
    "    real_segm_num = np.amax(segm_res) + 1\n",
    "    hystogram = np.zeros((real_segm_num, LABEL_NUM,1), dtype = 'uint32')\n",
    "\n",
    "    for i in range(segm_res.shape[0]):\n",
    "        for j in range(segm_res.shape[1]):\n",
    "            hystogram[segm_res[i][j]][ground_truth_labels[i][j]] += 1\n",
    "        \n",
    "    loss_res = 0\n",
    "    for i in range(real_segm_num):\n",
    "        loss_res += np.sum(hystogram[i]) - np.amax(hystogram[i])\n",
    "\n",
    "    print(\"SEGM_MAX_NUM =\", ind, \"SEGM_REAL_NUM =\", segm_num, \"LOSS_RES = \", loss_res, \n",
    "          \"PICS_NUM = \", pics_num, \"LOSS_PERCENTAGE = \", loss_res*100 / pics_num)"
   ]
  },
  {
   "cell_type": "code",
   "execution_count": null,
   "metadata": {
    "collapsed": false,
    "scrolled": false
   },
   "outputs": [],
   "source": [
    "for ind in IND_LIST:\n",
    "    ground_truth_colors = io.imread(GROUND_TRUTH_NAME_PATTERN.format(ind))\n",
    "    ground_truth_labels = convert_color_to_labels(ground_truth_colors)\n",
    "    for i in SEGM_NUM_LIST:\n",
    "        find_loss(ind, i)"
   ]
  }
 ],
 "metadata": {
  "kernelspec": {
   "display_name": "Python 3",
   "language": "python",
   "name": "python3"
  },
  "language_info": {
   "codemirror_mode": {
    "name": "ipython",
    "version": 3
   },
   "file_extension": ".py",
   "mimetype": "text/x-python",
   "name": "python",
   "nbconvert_exporter": "python",
   "pygments_lexer": "ipython3",
   "version": "3.6.0"
  }
 },
 "nbformat": 4,
 "nbformat_minor": 2
}
