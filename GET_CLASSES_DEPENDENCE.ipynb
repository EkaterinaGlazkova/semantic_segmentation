{
 "cells": [
  {
   "cell_type": "code",
   "execution_count": 1,
   "metadata": {
    "collapsed": true
   },
   "outputs": [],
   "source": [
    "import numpy as np\n",
    "import queue\n",
    "from skimage import io"
   ]
  },
  {
   "cell_type": "code",
   "execution_count": 45,
   "metadata": {
    "collapsed": true,
    "deletable": true,
    "editable": true
   },
   "outputs": [],
   "source": [
    "GTS_IND_LIST  = [3,5,11,13,17,21,23,26,28,30,32,34,37] \n",
    "\n",
    "MAIN_PATH = \"/Users/ekaterina/Documents/Semantic Segmentation/ISPRS_semantic_labeling_Vaihingen\"\n",
    "\n",
    "GTS_FORMAT = \"/gts_for_participants/top_mosaic_09cm_area{}.tif\"\n",
    "COV_RES = \"/Output/class_dependence.txt\"\n",
    "\n",
    "categories = np.zeros((6, 3), dtype = 'uint8')\n",
    "categories[0]  = [255, 255, 255]\n",
    "categories[1]  = [0, 0, 255]\n",
    "categories[2]  = [0, 255, 255]\n",
    "categories[3]  = [0, 255, 0]\n",
    "categories[4]  = [255, 255, 0]\n",
    "categories[5]  = [255, 0, 0]"
   ]
  },
  {
   "cell_type": "code",
   "execution_count": 3,
   "metadata": {
    "collapsed": true
   },
   "outputs": [],
   "source": [
    "def get_gts(num):\n",
    "    label_path = MAIN_PATH + \"/gts_for_participants/top_mosaic_09cm_area{}.tif\". format(num)\n",
    "    res = io.imread(label_path)\n",
    "    return res"
   ]
  },
  {
   "cell_type": "code",
   "execution_count": 4,
   "metadata": {
    "collapsed": true
   },
   "outputs": [],
   "source": [
    "def convert_color_to_labels(color_map):\n",
    "    label_map = np.zeros((color_map.shape[0],color_map.shape[1]), dtype = 'uint8')\n",
    "    for i in range(color_map.shape[0]):\n",
    "        for j in range (color_map.shape[1]):\n",
    "            pics = color_map[i][j][:]\n",
    "            for k in range(6):\n",
    "                if np.array_equal(pics, categories[k, :]):\n",
    "                    label_map[i][j] = k\n",
    "                    break\n",
    "    return label_map"
   ]
  },
  {
   "cell_type": "code",
   "execution_count": 13,
   "metadata": {
    "collapsed": false,
    "deletable": true,
    "editable": true
   },
   "outputs": [],
   "source": [
    "def bfs(img):\n",
    "    bfs_queue= queue.Queue()\n",
    "    bfs_queue.put((0,0))\n",
    "    visited = np.zeros((img.shape[0],img.shape[1],1), dtype = 'uint64')\n",
    "    while not bfs_queue.empty():\n",
    "        x,y = bfs_queue.get()\n",
    "        if (x>0 and not visited[x-1][y]):\n",
    "            if (img[x,y] != img[x-1,y]):\n",
    "                neighbours[img[x,y], img[x-1,y]] += 1\n",
    "            visited[x-1][y] = 1\n",
    "            bfs_queue.put((x-1,y)) \n",
    "        if (y>0 and not visited[x][y-1]):\n",
    "            if (img[x,y-1] != img[x,y]):\n",
    "                neighbours[img[x,y], img[x,y-1]] += 1\n",
    "            visited[x][y-1] = 1\n",
    "            bfs_queue.put((x,y-1)) \n",
    "        if ((x!= (img.shape[0] - 1)) and not visited[x+1][y]):\n",
    "            if (img[x+1,y] != img[x,y]):\n",
    "                neighbours[img[x,y], img[x+1,y]] += 1\n",
    "            visited[x+1][y] = 1\n",
    "            bfs_queue.put((x+1,y)) \n",
    "        if ((y!= (img.shape[1] - 1)) and not visited[x][y+1]):\n",
    "            if (img[x,y+1] != img[x,y]):\n",
    "                neighbours[img[x,y], img[x,y+1]] += 1\n",
    "            visited[x][y+1] = 1\n",
    "            bfs_queue.put((x,y+1))\n",
    "    return 0"
   ]
  },
  {
   "cell_type": "code",
   "execution_count": 14,
   "metadata": {
    "collapsed": false
   },
   "outputs": [],
   "source": [
    "neighbours = np.zeros((6, 6), dtype = 'uint64')\n",
    "for i in GTS_IND_LIST:\n",
    "    bfs(convert_color_to_labels(get_gts(i)))"
   ]
  },
  {
   "cell_type": "code",
   "execution_count": 46,
   "metadata": {
    "collapsed": false
   },
   "outputs": [],
   "source": [
    "neighbours = np.transpose(neighbours) + neighbours\n",
    "res = np.divide(neighbours, np.sum(neighbours)/200)\n",
    "np.savetxt(MAIN_PATH + COV_RES, res)"
   ]
  },
  {
   "cell_type": "code",
   "execution_count": 48,
   "metadata": {
    "collapsed": false
   },
   "outputs": [
    {
     "data": {
      "text/plain": [
       "array([[     0,  95771, 102850, 125273,  61150,   2881],\n",
       "       [ 95771,      0,  93510,  39782,   1125,    176],\n",
       "       [102850,  93510,      0, 190696,   1915,    723],\n",
       "       [125273,  39782, 190696,      0,   2269,   3491],\n",
       "       [ 61150,   1125,   1915,   2269,      0,      7],\n",
       "       [  2881,    176,    723,   3491,      7,      0]], dtype=uint64)"
      ]
     },
     "execution_count": 48,
     "metadata": {},
     "output_type": "execute_result"
    }
   ],
   "source": [
    "neighbours"
   ]
  },
  {
   "cell_type": "code",
   "execution_count": 49,
   "metadata": {
    "collapsed": false
   },
   "outputs": [
    {
     "data": {
      "text/plain": [
       "array([[  0.    ,  13.2717,  14.2527,  17.36  ,   8.474 ,   0.3992],\n",
       "       [ 13.2717,   0.    ,  12.9584,   5.5129,   0.1559,   0.0244],\n",
       "       [ 14.2527,  12.9584,   0.    ,  26.4261,   0.2654,   0.1002],\n",
       "       [ 17.36  ,   5.5129,  26.4261,   0.    ,   0.3144,   0.4838],\n",
       "       [  8.474 ,   0.1559,   0.2654,   0.3144,   0.    ,   0.001 ],\n",
       "       [  0.3992,   0.0244,   0.1002,   0.4838,   0.001 ,   0.    ]])"
      ]
     },
     "execution_count": 49,
     "metadata": {},
     "output_type": "execute_result"
    }
   ],
   "source": [
    "res"
   ]
  },
  {
   "cell_type": "code",
   "execution_count": null,
   "metadata": {
    "collapsed": true
   },
   "outputs": [],
   "source": []
  }
 ],
 "metadata": {
  "kernelspec": {
   "display_name": "Python 3",
   "language": "python",
   "name": "python3"
  },
  "language_info": {
   "codemirror_mode": {
    "name": "ipython",
    "version": 3
   },
   "file_extension": ".py",
   "mimetype": "text/x-python",
   "name": "python",
   "nbconvert_exporter": "python",
   "pygments_lexer": "ipython3",
   "version": "3.6.0"
  }
 },
 "nbformat": 4,
 "nbformat_minor": 2
}
