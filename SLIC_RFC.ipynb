{
 "cells": [
  {
   "cell_type": "code",
   "execution_count": null,
   "metadata": {
    "collapsed": true
   },
   "outputs": [],
   "source": [
    "import sklearn\n",
    "import matplotlib.pyplot as plt\n",
    "import matplotlib.colors as clr\n",
    "import numpy as np\n",
    "import queue\n",
    "from PIL import Image\n",
    "from skimage import color\n",
    "from skimage import io\n",
    "from sklearn.ensemble import RandomForestClassifier\n",
    "from sklearn.model_selection import cross_val_score"
   ]
  },
  {
   "cell_type": "code",
   "execution_count": null,
   "metadata": {
    "collapsed": true
   },
   "outputs": [],
   "source": [
    "PICS_FEATURES_NUM = 10\n",
    "LABEL_NUM = 6\n",
    "SEGM_NUM_LIST = [50, 100, 150, 200, 250, 300, 350, 400, 450, 500, 550, 600, 650]\n",
    "IND_LIST = [5]\n",
    "#IND_LIST = [1,3,5,11,13,17,21,23,26,28,30,32,34,37] #ideal\n",
    "MAIN_PATH = \"/Users/ekaterina/Documents/Semantic Segmentation/ISPRS_semantic_labeling_Vaihingen\"\n",
    "GROUND_TRUTH_NAME_PATTERN = \"/gts_for_participants/top_mosaic_09cm_area{}.tif\"\n",
    "SLIC_RESULT_PATTERN = \"/Output/SLIC/SLIC_{}_area_mask_{}_segments.png\"\n",
    "SEGM_MAX_NUM = 300\n",
    "TEST_PICS = [1,7,10,12,15]"
   ]
  },
  {
   "cell_type": "code",
   "execution_count": null,
   "metadata": {
    "collapsed": true
   },
   "outputs": [],
   "source": [
    "def combine_pics_features(x,y, rgb_source, hsv_source, lab_source, dsm_source):\n",
    "    data = np.zeros((PICS_FEATURES_NUM), dtype = 'float64')\n",
    "    data[0:3] = rgb_source[x][y][:]\n",
    "    data[3:6] = hsv_source[x][x][:]\n",
    "    data[6:9] = lab_source[i][j][:]\n",
    "    data[9] = dsm_source[x][y]\n",
    "    return data"
   ]
  },
  {
   "cell_type": "code",
   "execution_count": null,
   "metadata": {
    "collapsed": true
   },
   "outputs": [],
   "source": [
    "def combine_features(source1, source2, source3, source4):\n",
    "    data = np.zeros((source1.shape[0],source1.shape[1], 10), dtype = 'float64')\n",
    "    for i in range(source1.shape[0]):\n",
    "        for j in range (source1.shape[1]):\n",
    "            data[i][j][0:3] = source1[i][j][:]\n",
    "            data[i][j][3:6] = source2[i][j][:]\n",
    "            data[i][j][6:9] = source3[i][j][:]\n",
    "            data[i][j][9] = source4[i][j]\n",
    "    return data"
   ]
  },
  {
   "cell_type": "code",
   "execution_count": null,
   "metadata": {
    "collapsed": true
   },
   "outputs": [],
   "source": [
    "def get_label_pic(num):\n",
    "    label_path = MAIN_PATH + \"/gts_for_participants/top_mosaic_09cm_area{}.tif\". format(num)\n",
    "    res = io.imread(label_path)\n",
    "    return res"
   ]
  },
  {
   "cell_type": "code",
   "execution_count": null,
   "metadata": {
    "collapsed": true
   },
   "outputs": [],
   "source": [
    "def get_rgb_pic(num):\n",
    "    rgb_path = MAIN_PATH + \"/top/top_mosaic_09cm_area{}.tif\". format(num)\n",
    "    res = io.imread(rgb_path)\n",
    "    return res"
   ]
  },
  {
   "cell_type": "code",
   "execution_count": null,
   "metadata": {
    "collapsed": true
   },
   "outputs": [],
   "source": [
    "def get_dsm_pic(num):\n",
    "    dsm_path = MAIN_PATH + \"/dsm/dsm_09cm_matching_area{}.tif\". format(num)\n",
    "    res = io.imread(dsm_path)\n",
    "    return res"
   ]
  },
  {
   "cell_type": "code",
   "execution_count": null,
   "metadata": {
    "collapsed": true
   },
   "outputs": [],
   "source": [
    "def get_mask(num):\n",
    "    mask_path = MAIN_PATH + \"/Output/SLIC/SLIC_{}_area_mask_{}_segments.png\". format(num,SEGM_MAX_NUM)\n",
    "    res = io.imread(mask_path)\n",
    "    return res"
   ]
  },
  {
   "cell_type": "code",
   "execution_count": null,
   "metadata": {
    "collapsed": true
   },
   "outputs": [],
   "source": [
    "def get_hsv(image):\n",
    "    return color.rgb2hsv(image)\n",
    "\n",
    "def get_lab(image):\n",
    "    return  color.rgb2lab(image)"
   ]
  },
  {
   "cell_type": "code",
   "execution_count": null,
   "metadata": {
    "collapsed": false
   },
   "outputs": [],
   "source": [
    "def dfs_label():\n",
    "    global segment_array, pics_data, label_array, labels_map, visited, mask \n",
    "    while not dfs_queue.empty():\n",
    "        x,y = dfs_queue.get()\n",
    "        segment_array= np.concatenate((segment_array, [pics_data[x][y]]))\n",
    "        label_array[labels_map[x][y]] +=1\n",
    "        if (x>0 and visited[x-1][y] and mask[x-1][y] == mask[x][y]):\n",
    "            visited[x-1][y] = 0\n",
    "            dfs_queue.put((x-1,y)) \n",
    "        if (y>0 and visited[x][y-1] and mask[x][y-1] == mask[x][y]):\n",
    "            visited[x][y-1] = 0\n",
    "            dfs_queue.put((x,y-1)) \n",
    "        if ((x!= (pics_data.shape[0] - 1)) and visited[x+1][y] and mask[x+1][y] == mask[x][y]):\n",
    "            visited[x+1][y] = 0\n",
    "            dfs_queue.put((x+1,y)) \n",
    "        if ((y!= (pics_data.shape[1] - 1)) and visited[x][y+1] and mask[x][y+1] == mask[x][y]):\n",
    "            visited[x][y+1] = 0\n",
    "            dfs_queue.put((x,y+1))\n",
    "    return 0"
   ]
  },
  {
   "cell_type": "code",
   "execution_count": null,
   "metadata": {
    "collapsed": false
   },
   "outputs": [],
   "source": [
    "def dfs_simple():\n",
    "    global segment_array, pics_data, visited, mask \n",
    "    while not dfs_queue.empty():\n",
    "        x,y = dfs_queue.get()\n",
    "        segment_array= np.concatenate((segment_array, [pics_data[x][y]]))\n",
    "        if (x>0 and visited[x-1][y] and mask[x-1][y] == mask[x][y]):\n",
    "            visited[x-1][y] = 0\n",
    "            dfs_queue.put((x-1,y)) \n",
    "        if (y>0 and visited[x][y-1] and mask[x][y-1] == mask[x][y]):\n",
    "            visited[x][y-1] = 0\n",
    "            dfs_queue.put((x,y-1)) \n",
    "        if ((x!= (pics_data.shape[0] - 1)) and visited[x+1][y] and mask[x+1][y] == mask[x][y]):\n",
    "            visited[x+1][y] = 0\n",
    "            dfs_queue.put((x+1,y)) \n",
    "        if ((y!= (pics_data.shape[1] - 1)) and visited[x][y+1] and mask[x][y+1] == mask[x][y]):\n",
    "            visited[x][y+1] = 0\n",
    "            dfs_queue.put((x,y+1))\n",
    "    return 0"
   ]
  },
  {
   "cell_type": "code",
   "execution_count": null,
   "metadata": {
    "collapsed": false
   },
   "outputs": [],
   "source": [
    "global pics_data\n",
    "global segment_array\n",
    "global visited, mask, label_array, labels_map\n",
    "global dfs_queue\n",
    "dfs_queue= queue.Queue()\n",
    "def get_pics_segments_features(pic_ind, flag = 0):\n",
    "    global pics_data, segment_array, visited, mask, label_array, labels_map, dfs_queue\n",
    "    \n",
    "    dsm = get_dsm_pic(pic_ind)\n",
    "    rgb = get_rgb_pic(pic_ind)\n",
    "    hsv = get_hsv(rgb)\n",
    "    lab = get_lab(rgb)\n",
    "    pics_data = combine_features(rgb,hsv,lab,dsm)\n",
    "    mask = get_mask(pic_ind)\n",
    "    segm_num = len(np.unique(mask))\n",
    "    print(\"Segments number is {} for {} area.\".format(segm_num, pic_ind))\n",
    "    if flag:\n",
    "        labels_map = get_label_pic(pic_ind)\n",
    "        labels_map = convert_color_to_labels(labels_map)\n",
    "        labels = np.zeros((segm_num, LABEL_NUM), dtype = 'uint8')\n",
    "     \n",
    "    visited = np.ones(rgb.shape[:2])\n",
    "    segments = np.zeros((segm_num, PICS_FEATURES_NUM*2), dtype = 'float64') \n",
    "\n",
    "    while len(np.nonzero(visited)[0]) > 0:\n",
    "        start = np.nonzero(visited)\n",
    "        print(start)\n",
    "        if flag:\n",
    "            label_array = np.zeros((LABEL_NUM), dtype = 'uint32') \n",
    "        segment_array = np.zeros((0, PICS_FEATURES_NUM), dtype = 'float64') \n",
    "        \n",
    "        if flag:\n",
    "            dfs_queue.put((start[0][0], start[1][0]))\n",
    "            dfs_label()\n",
    "            labels[mask[start[0][0], start[1][0]]] = np.argmax(label_array)\n",
    "        else:\n",
    "            dfs_simple(start[0][0], start[1][0])\n",
    "            \n",
    "        for i in range(10):       \n",
    "            segments[mask[start[0][0], start[1][0]]][i] = np.mean(segment_array[:][i])\n",
    "            \n",
    "        for i in range(10, 20):   \n",
    "            segment_array[:][i-10] = (segment_array[:][i-10] - segments[mask[start[0][0], start[1][0]]][i-10])**2\n",
    "            segments[mask[start[0][0], start[1][0]]][i] = np.mean(segment_array[:][i-10])\n",
    "        \n",
    "    if flag:\n",
    "        return segments, labels\n",
    "    else:\n",
    "        return segments"
   ]
  },
  {
   "cell_type": "code",
   "execution_count": null,
   "metadata": {
    "collapsed": false
   },
   "outputs": [],
   "source": [
    "def get_segments_features(pics_list,flag = 0):\n",
    "    segments_features = np.zeros((0, PICS_FEATURES_NUM*2), dtype = 'float64') \n",
    "    if flag:\n",
    "        segments_labels = np.zeros((0,1), dtype = 'uint8')\n",
    "    for index in pics_list:\n",
    "        if flag:\n",
    "            res1, res2 = get_pics_segments_features(index, flag)\n",
    "            segments_features = np.concatenate((segments_features, res1))\n",
    "            segments_labels = np.concatenate((segments_labels, res2))\n",
    "        else:\n",
    "            segments_features = np.concatenate(segments_features, get_pics_segments_features(index));\n",
    "    if flag:\n",
    "        return segments_features, segments_labels\n",
    "    return segments_features"
   ]
  },
  {
   "cell_type": "code",
   "execution_count": null,
   "metadata": {
    "collapsed": true
   },
   "outputs": [],
   "source": [
    "def convert_labels_to_color(label_map):\n",
    "    categories = np.zeros((6, 3), dtype = 'uint8')\n",
    "    categories[0]  = [255, 255, 255]\n",
    "    categories[1]  = [0, 0, 255]\n",
    "    categories[2]  = [0, 255, 255]\n",
    "    categories[3]  = [0, 255, 0]\n",
    "    categories[4]  = [255, 255, 0]\n",
    "    categories[5]  = [255, 0, 0]\n",
    "\n",
    "    color_map = np.zeros((label_map.shape[0],label_map.shape[1], 3), dtype = 'uint8')\n",
    "    for i in range(label_map.shape[0]):\n",
    "        for j in range (label_map.shape[1]):\n",
    "            for k in range(6):\n",
    "                if label_map[i][j] == k:\n",
    "                    color_map[i][j] = categories[k]\n",
    "                    break\n",
    "                    \n",
    "    return color_map"
   ]
  },
  {
   "cell_type": "code",
   "execution_count": null,
   "metadata": {
    "collapsed": true
   },
   "outputs": [],
   "source": [
    "def convert_color_to_labels(color_map):\n",
    "    categories = np.zeros((6, 3), dtype = 'uint8')\n",
    "    categories[0]  = [255, 255, 255]\n",
    "    categories[1]  = [0, 0, 255]\n",
    "    categories[2]  = [0, 255, 255]\n",
    "    categories[3]  = [0, 255, 0]\n",
    "    categories[4]  = [255, 255, 0]\n",
    "    categories[5]  = [255, 0, 0]\n",
    "\n",
    "    label_map = np.zeros((color_map.shape[0],color_map.shape[1]), dtype = 'uint8')\n",
    "    for i in range(color_map.shape[0]):\n",
    "        for j in range (color_map.shape[1]):\n",
    "            pics = color_map[i][j][:]\n",
    "            for k in range(6):\n",
    "                if (pics[0] == categories[k][0]) and (pics[1] == categories[k][1]) and (pics[2] == categories[k][2]):\n",
    "                    label_map[i][j] = k\n",
    "                    break\n",
    "    \n",
    "    return label_map"
   ]
  },
  {
   "cell_type": "code",
   "execution_count": null,
   "metadata": {
    "collapsed": true
   },
   "outputs": [],
   "source": [
    "def make_data_plain(data, features_num):\n",
    "    plain_data = data.copy()\n",
    "    plain_data.resize(data.shape[0]*data.shape[1], features_num)\n",
    "    return plain_data"
   ]
  },
  {
   "cell_type": "code",
   "execution_count": null,
   "metadata": {
    "collapsed": false,
    "scrolled": true
   },
   "outputs": [],
   "source": [
    "train_data, train_labels = get_segments_features(IND_LIST, 1)"
   ]
  },
  {
   "cell_type": "code",
   "execution_count": null,
   "metadata": {
    "collapsed": true
   },
   "outputs": [],
   "source": [
    "clf = RandomForestClassifier(n_estimators=TREES_NUM, n_jobs = JOBS_NUM)"
   ]
  },
  {
   "cell_type": "code",
   "execution_count": null,
   "metadata": {
    "collapsed": true
   },
   "outputs": [],
   "source": [
    "start_time = time.clock()\n",
    "print(start_time)\n",
    "clf.fit(train_data, train_labels)\n",
    "finish_time = time.clock()\n",
    "print(finish_time - start_time)"
   ]
  },
  {
   "cell_type": "code",
   "execution_count": null,
   "metadata": {
    "collapsed": true
   },
   "outputs": [],
   "source": [
    "for j in TEST_PICS:\n",
    "    test_data, test_labels = get_segments_features(j, 1)\n",
    "    predicted_plain_labels = clf.predict(test_data)\n",
    "    predicted_labels = predicted_plain_labels.copy()\n",
    "    predicted_labels.resize(rgb.shape[0],rgb.shape[1])\n",
    "    predicted_pic = convert_labels_to_color(predicted_labels)\n",
    "    io.imsave(MAIN_PATH + \"Output/RES/SLIC_Predicted labels for {}.jpg\".format(j), predicted_pic)\n",
    "    show_pic(predicted_pic)\n",
    "    test_label_map = get_label_pic(j)\n",
    "    show_pic(test_label_map)\n",
    "    test_label_map = make_data_plain(test_label_map)\n",
    "    f1_score(test_label_map, predicted_plain_labels, labels = [0,1,2,3,4,5,6], average = 'micro')"
   ]
  }
 ],
 "metadata": {
  "kernelspec": {
   "display_name": "Python 3",
   "language": "python",
   "name": "python3"
  },
  "language_info": {
   "codemirror_mode": {
    "name": "ipython",
    "version": 3
   },
   "file_extension": ".py",
   "mimetype": "text/x-python",
   "name": "python",
   "nbconvert_exporter": "python",
   "pygments_lexer": "ipython3",
   "version": "3.6.0"
  }
 },
 "nbformat": 4,
 "nbformat_minor": 2
}
