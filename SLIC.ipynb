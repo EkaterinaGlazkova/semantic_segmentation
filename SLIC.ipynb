{
 "cells": [
  {
   "cell_type": "code",
   "execution_count": null,
   "metadata": {
    "collapsed": true
   },
   "outputs": [],
   "source": [
    "import matplotlib.pyplot as plt\n",
    "import numpy as np\n",
    "from skimage import io\n",
    "from skimage.segmentation import slic\n",
    "from skimage.segmentation import mark_boundaries\n",
    "%matplotlib inline "
   ]
  },
  {
   "cell_type": "code",
   "execution_count": null,
   "metadata": {
    "collapsed": true
   },
   "outputs": [],
   "source": [
    "MAIN_PATH = \"/Users/ekaterina/Documents/Semantic Segmentation/ISPRS_semantic_labeling_Vaihingen\"\n",
    "\n",
    "SEGM_NUM_LIST = [50, 100, 150, 200, 250, 300, 350, 400, 450, 500, 550, 600, 650]\n",
    "IND_LIST = [5, 23, 26, 37]\n",
    "\n",
    "MAX_ITER = 30\n",
    "SIGMA = 0"
   ]
  },
  {
   "cell_type": "code",
   "execution_count": null,
   "metadata": {
    "collapsed": true
   },
   "outputs": [],
   "source": [
    "def get_rgb_pic(num):\n",
    "    rgb_path = MAIN_PATH + \"/top/top_mosaic_09cm_area{}.tif\". format(num)\n",
    "    res = io.imread(rgb_path)\n",
    "    return res"
   ]
  },
  {
   "cell_type": "code",
   "execution_count": null,
   "metadata": {
    "collapsed": false
   },
   "outputs": [],
   "source": [
    "for ind in IND_LIST:\n",
    "    rgb = get_rgb_pic(ind)\n",
    "    for max_seg in SEGM_NUM_LIST:\n",
    "\n",
    "        segments = slic(rgb, \n",
    "                    n_segments = max_seg, \n",
    "                    max_iter = MAX_ITER, \n",
    "                    sigma = SIGMA)\n",
    "\n",
    "        io.imsave(MAIN_PATH + \"/Output/SLIC/SLIC_{}_area_mask_{}_segments.png\".format(ind, max_seg), segments)\n",
    "\n",
    "        io.imsave(MAIN_PATH + \"/Output/SLIC/SLIC_{}_area_with_boundaries_{}_segments.png\".format(ind, max_seg), \n",
    "                  mark_boundaries(rgb, segments))\n"
   ]
  }
 ],
 "metadata": {
  "kernelspec": {
   "display_name": "Python 3",
   "language": "python",
   "name": "python3"
  },
  "language_info": {
   "codemirror_mode": {
    "name": "ipython",
    "version": 3
   },
   "file_extension": ".py",
   "mimetype": "text/x-python",
   "name": "python",
   "nbconvert_exporter": "python",
   "pygments_lexer": "ipython3",
   "version": "3.6.0"
  }
 },
 "nbformat": 4,
 "nbformat_minor": 2
}
