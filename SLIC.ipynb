{
 "cells": [
  {
   "cell_type": "code",
   "execution_count": null,
   "metadata": {
    "collapsed": true,
    "deletable": true,
    "editable": true
   },
   "outputs": [],
   "source": [
    "#creates superpicsels using SLIC\n",
    "import numpy as np\n",
    "from skimage import io\n",
    "from skimage.segmentation import slic\n",
    "from skimage.segmentation import mark_boundaries"
   ]
  },
  {
   "cell_type": "code",
   "execution_count": null,
   "metadata": {
    "collapsed": true,
    "deletable": true,
    "editable": true
   },
   "outputs": [],
   "source": [
    "MAIN_PATH = \"/Users/ekaterina/Documents/Semantic Segmentation/ISPRS_semantic_labeling_Vaihingen\"\n",
    "TOP_FORMAT = \"/top/top_mosaic_09cm_area{}.tif\"\n",
    "SLIC_RES_FORMAT = \"/Output/SLIC/{}_area_{}_segm.txt\"\n",
    "SLIC_WITH_BOUNDARIES_FORMAT = \"/Output/SLIC/{}_area_{}_segm_boundaries.jpg\"\n",
    "\n",
    "SEGM_NUM_LIST = [300000]\n",
    "ALL_IND_LIST = [1,2,3,4,5,6,7,8,10,11,12,13,14,15,16,17,20,21,22,23,24,26,27,28,29,30,31,32,33,34,35,37,38]\n",
    "\n",
    "MAX_ITER = 30\n",
    "COMPACTNESS = 15"
   ]
  },
  {
   "cell_type": "code",
   "execution_count": null,
   "metadata": {
    "collapsed": true,
    "deletable": true,
    "editable": true
   },
   "outputs": [],
   "source": [
    "def get_top(num):\n",
    "    top_path = MAIN_PATH + TOP_FORMAT. format(num)\n",
    "    top = io.imread(top_path)\n",
    "    return top"
   ]
  },
  {
   "cell_type": "code",
   "execution_count": null,
   "metadata": {
    "collapsed": false,
    "deletable": true,
    "editable": true
   },
   "outputs": [],
   "source": [
    "for ind in ALL_IND_LIST:\n",
    "    top = get_top(ind)\n",
    "    for max_seg in SEGM_NUM_LIST:\n",
    "        slic_res = slic(top, \n",
    "                        n_segments = max_seg, \n",
    "                        max_iter = MAX_ITER,\n",
    "                        compactness=COMPACTNESS)\n",
    "        \n",
    "        np.savetxt(MAIN_PATH + SLIC_RES_FORMAT.format(ind, max_seg), slic_res, fmt='%d')\n",
    "\n",
    "        io.imsave(MAIN_PATH + SLIC_WITH_BOUNDARIES_FORMAT.format(ind, max_seg), mark_boundaries(top, slic_res))\n"
   ]
  }
 ],
 "metadata": {
  "kernelspec": {
   "display_name": "Python 3",
   "language": "python",
   "name": "python3"
  },
  "language_info": {
   "codemirror_mode": {
    "name": "ipython",
    "version": 3
   },
   "file_extension": ".py",
   "mimetype": "text/x-python",
   "name": "python",
   "nbconvert_exporter": "python",
   "pygments_lexer": "ipython3",
   "version": "3.6.0"
  }
 },
 "nbformat": 4,
 "nbformat_minor": 2
}
