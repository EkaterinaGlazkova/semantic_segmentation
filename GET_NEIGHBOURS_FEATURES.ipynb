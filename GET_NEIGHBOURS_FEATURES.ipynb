{
 "cells": [
  {
   "cell_type": "code",
   "execution_count": 1,
   "metadata": {
    "collapsed": true
   },
   "outputs": [],
   "source": [
    "#extracts neighbours features from all features and adjacent graph\n",
    "\n",
    "import numpy as np\n",
    "from skimage import io"
   ]
  },
  {
   "cell_type": "code",
   "execution_count": 13,
   "metadata": {
    "collapsed": true
   },
   "outputs": [],
   "source": [
    "FEATURES_NUM = 20\n",
    "LABEL_NUM = 6\n",
    "#GTS_IND_LIST  = [1,3,5,7,11,13,15,17,21,23,26,28,30,32,34,37] \n",
    "GTS_IND_LIST  = [5,7,11,13,15,17,21,23,26,28,30,32,34,37]\n",
    "\n",
    "MAIN_PATH = \"/Users/ekaterina/Documents/Semantic Segmentation/ISPRS_semantic_labeling_Vaihingen\"\n",
    "\n",
    "FEATURES_FORMAT = \"/Output/FEATURES/{}_area_{}_segm.txt\"\n",
    "FEATURES_WITH_NEIGHB_FORMAT = \"/Output/FEATURES_WITH_NEIGHBOURS/{}_area_{}_segm.txt\"\n",
    "ADJ_GRAPH_FORMAT = \"/Output/ADJ_GRAPHS/{}_area_{}_segm.txt\"\n",
    "\n",
    "SEGM_MAX_NUM = 30000"
   ]
  },
  {
   "cell_type": "code",
   "execution_count": 3,
   "metadata": {
    "collapsed": true
   },
   "outputs": [],
   "source": [
    "def get_own_features(num, segm_num):\n",
    "    return np.loadtxt(MAIN_PATH + FEATURES_FORMAT.format(num, segm_num), dtype = 'float64')"
   ]
  },
  {
   "cell_type": "code",
   "execution_count": 4,
   "metadata": {
    "collapsed": true
   },
   "outputs": [],
   "source": [
    "def get_adj_gr(num, segm_num):\n",
    "    return np.loadtxt(MAIN_PATH + ADJ_GRAPH_FORMAT.format(num, segm_num), dtype = 'uint8')"
   ]
  },
  {
   "cell_type": "code",
   "execution_count": 14,
   "metadata": {
    "collapsed": false
   },
   "outputs": [
    {
     "name": "stdout",
     "output_type": "stream",
     "text": [
      "Loading features for  5\n",
      "Loading adjacent graph\n",
      "Loading features for  7\n",
      "Loading adjacent graph\n",
      "Loading features for  11\n",
      "Loading adjacent graph\n",
      "Loading features for  13\n",
      "Loading adjacent graph\n",
      "Loading features for  15\n",
      "Loading adjacent graph\n",
      "Loading features for  17\n",
      "Loading adjacent graph\n",
      "Loading features for  21\n",
      "Loading adjacent graph\n",
      "Loading features for  23\n",
      "Loading adjacent graph\n",
      "Loading features for  26\n",
      "Loading adjacent graph\n",
      "Loading features for  28\n",
      "Loading adjacent graph\n",
      "Loading features for  30\n",
      "Loading adjacent graph\n",
      "Loading features for  32\n",
      "Loading adjacent graph\n",
      "Loading features for  34\n",
      "Loading adjacent graph\n",
      "Loading features for  37\n",
      "Loading adjacent graph\n"
     ]
    }
   ],
   "source": [
    "for i in GTS_IND_LIST:\n",
    "    print(\"Loading features for \", i)\n",
    "    segm_features = get_own_features(i, SEGM_MAX_NUM)\n",
    "    segm_features = np.append(segm_features, np.zeros((segm_features.shape)), axis=1)\n",
    "    print(\"Loading adjacent graph\")\n",
    "    adj_graph = get_adj_gr(i, SEGM_MAX_NUM)\n",
    "    segm_num = segm_features.shape[0]\n",
    "    for segm_ind in range(segm_num):\n",
    "        neighbours = np.nonzero(adj_graph[segm_ind, :])\n",
    "        for neighb_ind in neighbours[0]:\n",
    "            segm_features[segm_ind, FEATURES_NUM:] += segm_features[neighb_ind, :FEATURES_NUM]\n",
    "        segm_features[segm_ind, FEATURES_NUM:] /= len(neighbours[0])\n",
    "    np.savetxt(MAIN_PATH + FEATURES_WITH_NEIGHB_FORMAT.format(i, SEGM_MAX_NUM), segm_features)"
   ]
  },
  {
   "cell_type": "code",
   "execution_count": 11,
   "metadata": {
    "collapsed": false
   },
   "outputs": [],
   "source": [
    "    for segm_ind in range(segm_num):\n",
    "        neighbours = np.nonzero(adj_graph[segm_ind, :])\n",
    "        for neighb_ind in neighbours[0]:\n",
    "            segm_features[segm_ind, FEATURES_NUM:] += segm_features[neighb_ind, :FEATURES_NUM]\n",
    "        segm_features[segm_ind, FEATURES_NUM:] /= len(neighbours[0])\n",
    "    np.savetxt(MAIN_PATH + FEATURES_WITH_NEIGHB_FORMAT.format(i, SEGM_MAX_NUM), segm_features)"
   ]
  },
  {
   "cell_type": "code",
   "execution_count": null,
   "metadata": {
    "collapsed": true
   },
   "outputs": [],
   "source": []
  }
 ],
 "metadata": {
  "kernelspec": {
   "display_name": "Python 3",
   "language": "python",
   "name": "python3"
  },
  "language_info": {
   "codemirror_mode": {
    "name": "ipython",
    "version": 3
   },
   "file_extension": ".py",
   "mimetype": "text/x-python",
   "name": "python",
   "nbconvert_exporter": "python",
   "pygments_lexer": "ipython3",
   "version": "3.6.0"
  }
 },
 "nbformat": 4,
 "nbformat_minor": 2
}
